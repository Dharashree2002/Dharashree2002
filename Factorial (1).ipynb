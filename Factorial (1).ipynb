{
 "cells": [
  {
   "cell_type": "code",
   "execution_count": 1,
   "id": "df4de098",
   "metadata": {},
   "outputs": [
    {
     "name": "stdout",
     "output_type": "stream",
     "text": [
      "Enter a number: 40\n",
      "Factorial of 40:  815915283247897734345611269596115894272000000000\n"
     ]
    }
   ],
   "source": [
    "# WAP to print factorial of a number, where number is entered by user\n",
    "\n",
    "num=int(input(\"Enter a number: \"))\n",
    "fac=1\n",
    "for i in range(1,num+1):\n",
    " fac=fac*i\n",
    "print(f\"Factorial of {num}: \" ,fac)"
   ]
  },
  {
   "cell_type": "code",
   "execution_count": 2,
   "id": "e1a2e231",
   "metadata": {},
   "outputs": [
    {
     "name": "stdout",
     "output_type": "stream",
     "text": [
      "Enter a number: 50\n",
      "50 is positive\n"
     ]
    }
   ],
   "source": [
    "# Qno-WAP to check weather a number is positive,negative or zero\n",
    "num=int(input(\"Enter a number: \"))\n",
    "print(f\"{num} is positive\") if num>0 else print(f\"{num} is negative\") if num<0 else print(f\"number is {num} \")"
   ]
  },
  {
   "cell_type": "code",
   "execution_count": 3,
   "id": "1b2cf665",
   "metadata": {},
   "outputs": [
    {
     "name": "stdout",
     "output_type": "stream",
     "text": [
      "Enter any word: h\n",
      "Oiginal word:  h\n",
      "Word in alphabetical order:  ['h']\n"
     ]
    }
   ],
   "source": [
    "word=input(\"Enter any word: \")\n",
    "print(\"Oiginal word: \", word)\n",
    "print(\"Word in alphabetical order: \", sorted(word))\n"
   ]
  }
 ],
 "metadata": {
  "kernelspec": {
   "display_name": "Python 3",
   "language": "python",
   "name": "python3"
  },
  "language_info": {
   "codemirror_mode": {
    "name": "ipython",
    "version": 3
   },
   "file_extension": ".py",
   "mimetype": "text/x-python",
   "name": "python",
   "nbconvert_exporter": "python",
   "pygments_lexer": "ipython3",
   "version": "3.8.8"
  }
 },
 "nbformat": 4,
 "nbformat_minor": 5
}
