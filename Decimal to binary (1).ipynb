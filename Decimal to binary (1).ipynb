{
 "cells": [
  {
   "cell_type": "code",
   "execution_count": 2,
   "id": "f8b99771",
   "metadata": {},
   "outputs": [
    {
     "name": "stdout",
     "output_type": "stream",
     "text": [
      "Enter a decimal number: 10\n",
      "Binary of 10 is:-\n",
      "1010"
     ]
    }
   ],
   "source": [
    "# Decimal to binary(method 1)\n",
    "def decimal_to_binary(num):\n",
    "\n",
    "    if(num>1):\n",
    "        decimal_to_binary(num//2)\n",
    "\n",
    "    \n",
    "    print(num%2 , end=\"\")\n",
    "\n",
    "num= int(input(\"Enter a decimal number: \"))\n",
    "print(f\"Binary of {num} is:-\")\n",
    "decimal_to_binary(num)"
   ]
  },
  {
   "cell_type": "code",
   "execution_count": null,
   "id": "221328a9",
   "metadata": {},
   "outputs": [],
   "source": []
  }
 ],
 "metadata": {
  "kernelspec": {
   "display_name": "Python 3",
   "language": "python",
   "name": "python3"
  },
  "language_info": {
   "codemirror_mode": {
    "name": "ipython",
    "version": 3
   },
   "file_extension": ".py",
   "mimetype": "text/x-python",
   "name": "python",
   "nbconvert_exporter": "python",
   "pygments_lexer": "ipython3",
   "version": "3.8.8"
  }
 },
 "nbformat": 4,
 "nbformat_minor": 5
}
