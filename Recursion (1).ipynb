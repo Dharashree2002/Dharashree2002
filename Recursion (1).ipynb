{
 "cells": [
  {
   "cell_type": "code",
   "execution_count": 1,
   "id": "e93f50fc",
   "metadata": {},
   "outputs": [
    {
     "name": "stdout",
     "output_type": "stream",
     "text": [
      "Enter a number to find it's factors 85\n",
      "Factors of 85 is:\n",
      "1 5 17 85 "
     ]
    }
   ],
   "source": [
    "# Calculating factors of a number using 'RECURSION'\n",
    "\n",
    "\n",
    "def factors(n,i):\n",
    "\n",
    "\n",
    "    if i>n:\n",
    "        return 0\n",
    "    if i<=n:\n",
    "        if n%i == 0:\n",
    "            print(i, end=\" \")\n",
    "    \n",
    "    factors(n, i+1)\n",
    "\n",
    "\n",
    "\n",
    "n=int(input(\"Enter a number to find it's factors \"))\n",
    "print(f\"Factors of {n} is:\")\n",
    "factors(n,1)"
   ]
  },
  {
   "cell_type": "code",
   "execution_count": null,
   "id": "c6607213",
   "metadata": {},
   "outputs": [],
   "source": []
  }
 ],
 "metadata": {
  "kernelspec": {
   "display_name": "Python 3",
   "language": "python",
   "name": "python3"
  },
  "language_info": {
   "codemirror_mode": {
    "name": "ipython",
    "version": 3
   },
   "file_extension": ".py",
   "mimetype": "text/x-python",
   "name": "python",
   "nbconvert_exporter": "python",
   "pygments_lexer": "ipython3",
   "version": "3.8.8"
  }
 },
 "nbformat": 4,
 "nbformat_minor": 5
}
